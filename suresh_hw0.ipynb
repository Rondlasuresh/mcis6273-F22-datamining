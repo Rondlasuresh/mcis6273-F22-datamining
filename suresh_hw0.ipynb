{
 "cells": [
  {
   "cell_type": "markdown",
   "metadata": {},
   "source": [
    "Assignment 0 Zotero Username : Rondlasuresh\n",
    "\n",
    "Zotero Mail : SRondla2583@muleriders.saumag.edu\n",
    "\n",
    "1)List 3 things that you learned from this podcast? The Talk Python\n",
    "podcast was quite educational all around. Here is a list of the things I\n",
    "discovered from the podcast:\n",
    "\n",
    "Adam explained the advantages Github and Jupyter notebook have had for\n",
    "the data industry. Knowing this proved to be quite helpful. especially\n",
    "given that Github has applications outside of academics\n",
    "\n",
    "The computational notebooks use a cell-by-cell description in the\n",
    "notebook to accurately deliver the computational narrative.\n",
    "\n",
    "It is incredible to see how data science can be used to so many\n",
    "different industries, and how using notebooks has increased its\n",
    "usefulness for students.\n",
    "\n",
    "1.  What is your reaction to the podcast? Pick at least one point Adam\n",
    "    brought up in the interview that you agree with and list your reason\n",
    "    why It’s accurate to remark that “It is exciting that, You get to\n",
    "    build stuff that is conceptual but it runs” in the audio. You still\n",
    "    get to create things even though this area is largely virtual. But\n",
    "    this would raise the stakes significantly. They are truly true if\n",
    "    you understand them on a deeper level. I firmly believe that humans\n",
    "    are capable of producing meaningful, if virtual, objects. I feel\n",
    "    excited after listening to the podcast and really waitin g to\n",
    "    explore it\n",
    "\n",
    "2.  After listening to the podcast, do you think you are more interested\n",
    "    or less interested in learning from Jupyter notebooks on Github?\n",
    "    Jupyter notebook is, in my opinion, the best way for any beginner to\n",
    "    start off on this fantastic journey. Working on Github and notebooks\n",
    "    excites me. In my point of view after listening to the podcast i am\n",
    "    more intrested in learning from jupyter notebooks on github."
   ]
  }
 ],
 "nbformat": 4,
 "nbformat_minor": 5,
 "metadata": {}
}
